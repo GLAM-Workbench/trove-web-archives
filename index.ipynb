{
 "cells": [
  {
   "cell_type": "markdown",
   "id": "b5509b64",
   "metadata": {},
   "source": [
    "# trove-web-archives\n",
    "\n",
    "A GLAM Workbench repository\n",
    "\n",
    "For more information and documentation see the [Trove web archive collections (Pandora)](https://glam-workbench.net/trove-web-archives) section of the [GLAM Workbench](https://glam-workbench.net).\n",
    "\n",
    "## Notebooks\n",
    "- [Create title datasets from collections and subjects](https://github.com/GLAM-Workbench/trove-web-archives/blob/master/create-datasets.ipynb)\n",
    "- [Harvest Pandora subjects and collections](https://github.com/GLAM-Workbench/trove-web-archives/blob/master/harvest-pandora-subject-collections.ipynb)\n",
    "- [Harvest the full collection of Pandora titles](https://github.com/GLAM-Workbench/trove-web-archives/blob/master/harvest-pandora-titles.ipynb)"
   ]
  },
  {
   "cell_type": "markdown",
   "id": "f74f419f",
   "metadata": {},
   "source": [
    "## Associated datasets\n",
    "- [trove-web-archives-titles](https://github.com/GLAM-Workbench/trove-web-archives-titles)\n",
    "- [trove-web-archives-collections](https://github.com/GLAM-Workbench/trove-web-archives-collections)\n"
   ]
  },
  {
   "cell_type": "markdown",
   "id": "e7ba8ca3",
   "metadata": {},
   "source": [
    "----\n",
    "Created by [Tim Sherratt](https://timsherratt.au) for the [GLAM Workbench](https://glam-workbench.net)"
   ]
  }
 ],
 "metadata": {
  "jupytext": {
   "cell_metadata_filter": "-all"
  },
  "kernelspec": {
   "display_name": "Python 3 (ipykernel)",
   "language": "python",
   "name": "python3"
  }
 },
 "nbformat": 4,
 "nbformat_minor": 5
}
