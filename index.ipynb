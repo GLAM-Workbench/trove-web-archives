{
 "cells": [
  {
   "cell_type": "markdown",
   "id": "0df29d37",
   "metadata": {},
   "source": [
    "# trove-web-archives\n",
    "\n",
    "CURRENT VERSION: v1.0.0\n",
    "\n",
    "This repository includes information on finding, understanding, and using Pandora's collections of archived web pages.\n",
    "\n",
    "[Pandora](http://pandora.nla.gov.au/) has been selecting web sites and online resources for preservation since 1996. It has assembled a collection of more than 80,000 titles, organised into subjects and collections. The archived websites are now part of the Australian Web Archive (AWA), which combines the selected titles with broader domain harvests, and is searchable through Trove. However, Pandora's curated collections offer a useful entry point for researchers trying to find web sites relating to particular topics or events.\n",
    "\n",
    "The [Web Archives](https://glam-workbench.net/web-archives/) section of the GLAM Workbench provides documentation, tools, and examples to help you work with data from a range of web archives, including the Australian Web Archive. The title urls obtained through Pandora can be used to obtain additional data from the AWA for analysis.\n",
    "\n",
    "For more information and documentation see the [Trove web archive collections (Pandora)](https://glam-workbench.net/trove-web-archives) section of the [GLAM Workbench](https://glam-workbench.net).\n",
    "\n",
    "## Notebooks\n",
    "- [Create title datasets from collections and subjects](https://github.com/GLAM-Workbench/trove-web-archives/blob/master/create-datasets.ipynb)\n",
    "- [Harvest Pandora subjects and collections](https://github.com/GLAM-Workbench/trove-web-archives/blob/master/harvest-pandora-subject-collections.ipynb)\n",
    "- [Harvest the full collection of Pandora titles](https://github.com/GLAM-Workbench/trove-web-archives/blob/master/harvest-pandora-titles.ipynb)"
   ]
  },
  {
   "cell_type": "markdown",
   "id": "41e63670",
   "metadata": {},
   "source": [
    "## Associated datasets\n",
    "- [trove-web-archives-titles](https://github.com/GLAM-Workbench/trove-web-archives-titles)\n",
    "- [trove-web-archives-collections](https://github.com/GLAM-Workbench/trove-web-archives-collections)\n"
   ]
  },
  {
   "cell_type": "markdown",
   "id": "70ad35e0",
   "metadata": {},
   "source": [
    "----\n",
    "Created by [Tim Sherratt](https://timsherratt.au) for the [GLAM Workbench](https://glam-workbench.net)"
   ]
  }
 ],
 "metadata": {
  "jupytext": {
   "cell_metadata_filter": "-all"
  },
  "kernelspec": {
   "display_name": "Python 3 (ipykernel)",
   "language": "python",
   "name": "python3"
  }
 },
 "nbformat": 4,
 "nbformat_minor": 5
}
